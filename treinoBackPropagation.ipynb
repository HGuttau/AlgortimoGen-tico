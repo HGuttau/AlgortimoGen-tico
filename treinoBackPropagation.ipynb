{
  "nbformat": 4,
  "nbformat_minor": 0,
  "metadata": {
    "colab": {
      "provenance": [],
      "authorship_tag": "ABX9TyNdh9nuTKr/4Zdt7Tbf20JJ",
      "include_colab_link": true
    },
    "kernelspec": {
      "name": "python3",
      "display_name": "Python 3"
    },
    "language_info": {
      "name": "python"
    }
  },
  "cells": [
    {
      "cell_type": "markdown",
      "metadata": {
        "id": "view-in-github",
        "colab_type": "text"
      },
      "source": [
        "<a href=\"https://colab.research.google.com/github/HGuttau/AlgortimoGen-tico/blob/main/treinoBackPropagation.ipynb\" target=\"_parent\"><img src=\"https://colab.research.google.com/assets/colab-badge.svg\" alt=\"Open In Colab\"/></a>"
      ]
    },
    {
      "cell_type": "code",
      "execution_count": 31,
      "metadata": {
        "id": "SwWhQCbnLst3"
      },
      "outputs": [],
      "source": [
        "# Estudo Simples de Back Propagation"
      ]
    },
    {
      "cell_type": "markdown",
      "source": [
        "Vamos aos dados do problema:\n",
        "$x_1%$ = 1.0, $x_2 = 0.5$ , $w_1 = 0.4$, $w_2 = -0.7$ , bias$(b) = 0.1$ a taxa de aprendizagem $(n) = 0.1$ e a saida esperada é $y=1$  "
      ],
      "metadata": {
        "id": "be2DQ3tJLxrw"
      }
    },
    {
      "cell_type": "code",
      "source": [
        "x1 = 1.0\n",
        "x2 = 0.5\n",
        "w1 = 0.4\n",
        "w2 = -0.7\n",
        "b = 0.1\n",
        "n = 0.1\n",
        "y = 1"
      ],
      "metadata": {
        "id": "zXJ9Ff8gLwVu"
      },
      "execution_count": 32,
      "outputs": []
    },
    {
      "cell_type": "code",
      "source": [
        "z = (x1 * w1) + (x2 * w2) + b"
      ],
      "metadata": {
        "id": "9IEaMv16MrcX"
      },
      "execution_count": 33,
      "outputs": []
    },
    {
      "cell_type": "code",
      "source": [
        "z"
      ],
      "metadata": {
        "colab": {
          "base_uri": "https://localhost:8080/"
        },
        "id": "XDocP7-EM4Fe",
        "outputId": "22f70b62-2be6-49ca-9de2-cf7f1011cbea"
      },
      "execution_count": 34,
      "outputs": [
        {
          "output_type": "execute_result",
          "data": {
            "text/plain": [
              "0.15000000000000005"
            ]
          },
          "metadata": {},
          "execution_count": 34
        }
      ]
    },
    {
      "cell_type": "code",
      "source": [
        "import math as mt\n",
        "yhat = 1/(1+(mt.pow(mt.e,-z)))\n",
        "yhat"
      ],
      "metadata": {
        "colab": {
          "base_uri": "https://localhost:8080/"
        },
        "id": "cp6x0WG8M48c",
        "outputId": "8f5c5bc8-9e85-41af-f15e-aa27cf06db54"
      },
      "execution_count": 35,
      "outputs": [
        {
          "output_type": "execute_result",
          "data": {
            "text/plain": [
              "0.5374298453437496"
            ]
          },
          "metadata": {},
          "execution_count": 35
        }
      ]
    },
    {
      "cell_type": "code",
      "source": [
        "## Derivada da Sigmoid\n",
        "derivada_sigmoid = yhat*(1-yhat)\n",
        "derivada_sigmoid"
      ],
      "metadata": {
        "colab": {
          "base_uri": "https://localhost:8080/"
        },
        "id": "XnrmQSGQN8A5",
        "outputId": "46616032-0502-48c9-c848-c6dd4c2b55d8"
      },
      "execution_count": 36,
      "outputs": [
        {
          "output_type": "execute_result",
          "data": {
            "text/plain": [
              "0.24859900667754298"
            ]
          },
          "metadata": {},
          "execution_count": 36
        }
      ]
    },
    {
      "cell_type": "markdown",
      "source": [
        "Com os atributos básicos no lugar vamos começar a fazer a parte de Back Propagation:"
      ],
      "metadata": {
        "id": "qax-JtEzO-aD"
      }
    },
    {
      "cell_type": "code",
      "source": [
        "## Gradiente de Erro\n",
        "gradiente_erro_x1 = (yhat-y)*derivada_sigmoid*x1\n",
        "gradiente_erro_x1"
      ],
      "metadata": {
        "colab": {
          "base_uri": "https://localhost:8080/"
        },
        "id": "lY-P1N4kO7DV",
        "outputId": "bb1b7ce5-5bfb-4a5c-cfb6-a631332e50d9"
      },
      "execution_count": 37,
      "outputs": [
        {
          "output_type": "execute_result",
          "data": {
            "text/plain": [
              "-0.11499448096622128"
            ]
          },
          "metadata": {},
          "execution_count": 37
        }
      ]
    },
    {
      "cell_type": "code",
      "source": [
        "## Atualização w1:\n",
        "w1 = w1 - n * gradiente_erro_x1\n",
        "w1"
      ],
      "metadata": {
        "colab": {
          "base_uri": "https://localhost:8080/"
        },
        "id": "qKWrPz8PPVMh",
        "outputId": "ba022846-f19b-4d8b-84a4-c4769dd5b83d"
      },
      "execution_count": 38,
      "outputs": [
        {
          "output_type": "execute_result",
          "data": {
            "text/plain": [
              "0.41149944809662214"
            ]
          },
          "metadata": {},
          "execution_count": 38
        }
      ]
    },
    {
      "cell_type": "code",
      "source": [
        "# Atualização w2\n",
        "gradiente_erro_x2 = (yhat - y)*derivada_sigmoid*x2\n",
        "gradiente_erro_x2"
      ],
      "metadata": {
        "colab": {
          "base_uri": "https://localhost:8080/"
        },
        "id": "d5EPJz61Pqvb",
        "outputId": "46087ecf-83cd-4290-b413-ced1c175aa84"
      },
      "execution_count": 39,
      "outputs": [
        {
          "output_type": "execute_result",
          "data": {
            "text/plain": [
              "-0.05749724048311064"
            ]
          },
          "metadata": {},
          "execution_count": 39
        }
      ]
    },
    {
      "cell_type": "code",
      "source": [
        "w2 = w2-n*gradiente_erro_x2\n",
        "w2"
      ],
      "metadata": {
        "colab": {
          "base_uri": "https://localhost:8080/"
        },
        "id": "tTpoEPkaP4fH",
        "outputId": "7f132239-3020-4f3c-a460-5e70bbdd1b48"
      },
      "execution_count": 40,
      "outputs": [
        {
          "output_type": "execute_result",
          "data": {
            "text/plain": [
              "-0.6942502759516889"
            ]
          },
          "metadata": {},
          "execution_count": 40
        }
      ]
    },
    {
      "cell_type": "code",
      "source": [
        "# atualização Bias\n",
        "# gradiente erro bias\n",
        "gradiente_bias = (yhat-y)*derivada_sigmoid*1\n",
        "gradiente_bias"
      ],
      "metadata": {
        "colab": {
          "base_uri": "https://localhost:8080/"
        },
        "id": "ORZHxeSOQFVN",
        "outputId": "e09ae33c-c0c0-4e59-e8a6-13d1c60fc3f4"
      },
      "execution_count": 41,
      "outputs": [
        {
          "output_type": "execute_result",
          "data": {
            "text/plain": [
              "-0.11499448096622128"
            ]
          },
          "metadata": {},
          "execution_count": 41
        }
      ]
    },
    {
      "cell_type": "code",
      "source": [
        "# Atualização bias\n",
        "b = b - n * gradiente_bias\n",
        "b"
      ],
      "metadata": {
        "colab": {
          "base_uri": "https://localhost:8080/"
        },
        "id": "tMnUGqJsQjJK",
        "outputId": "fd4e9ff6-fde3-45f7-bf7c-02f79bed1078"
      },
      "execution_count": 42,
      "outputs": [
        {
          "output_type": "execute_result",
          "data": {
            "text/plain": [
              "0.11149944809662213"
            ]
          },
          "metadata": {},
          "execution_count": 42
        }
      ]
    }
  ]
}